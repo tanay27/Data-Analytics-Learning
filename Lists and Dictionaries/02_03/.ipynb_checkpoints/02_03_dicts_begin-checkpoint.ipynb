{
 "cells": [
  {
   "cell_type": "code",
   "execution_count": 6,
   "metadata": {
    "collapsed": true
   },
   "outputs": [],
   "source": [
    "Category = {'mobile':'electronics','grains':'FMCG','Coke':'Foods and Drinks', 'eagles':'Bird'}"
   ]
  },
  {
   "cell_type": "code",
   "execution_count": 7,
   "metadata": {},
   "outputs": [
    {
     "data": {
      "text/plain": [
       "{'Coke': 'Foods and Drinks',\n",
       " 'eagles': 'Bird',\n",
       " 'grains': 'FMCG',\n",
       " 'mobile': 'electronics'}"
      ]
     },
     "execution_count": 7,
     "metadata": {},
     "output_type": "execute_result"
    }
   ],
   "source": [
    "Category"
   ]
  },
  {
   "cell_type": "code",
   "execution_count": 9,
   "metadata": {},
   "outputs": [
    {
     "data": {
      "text/plain": [
       "'Foods and Drinks'"
      ]
     },
     "execution_count": 9,
     "metadata": {},
     "output_type": "execute_result"
    }
   ],
   "source": [
    "Category['Coke']"
   ]
  },
  {
   "cell_type": "code",
   "execution_count": 12,
   "metadata": {
    "collapsed": true
   },
   "outputs": [],
   "source": [
    "Category['Peanut Butter']='Foods and Drinks'"
   ]
  },
  {
   "cell_type": "code",
   "execution_count": 13,
   "metadata": {},
   "outputs": [
    {
     "data": {
      "text/plain": [
       "{'Coke': 'Foods and Drinks',\n",
       " 'Peanut Butter': 'Foods and Drinks',\n",
       " 'eagles': 'Bird',\n",
       " 'grains': 'FMCG',\n",
       " 'mobile': 'electronics'}"
      ]
     },
     "execution_count": 13,
     "metadata": {},
     "output_type": "execute_result"
    }
   ],
   "source": [
    "Category"
   ]
  },
  {
   "cell_type": "code",
   "execution_count": 15,
   "metadata": {},
   "outputs": [
    {
     "data": {
      "text/plain": [
       "True"
      ]
     },
     "execution_count": 15,
     "metadata": {},
     "output_type": "execute_result"
    }
   ],
   "source": [
    "#to look for an object whether it is there in the dictionary or not\n",
    "'Coke' in Category"
   ]
  },
  {
   "cell_type": "code",
   "execution_count": 16,
   "metadata": {},
   "outputs": [
    {
     "data": {
      "text/plain": [
       "False"
      ]
     },
     "execution_count": 16,
     "metadata": {},
     "output_type": "execute_result"
    }
   ],
   "source": [
    "'Cycle' in Category"
   ]
  },
  {
   "cell_type": "code",
   "execution_count": 19,
   "metadata": {
    "collapsed": true
   },
   "outputs": [],
   "source": [
    "#collating the dictionaries\n",
    "moreCategory = {'Cycle':'Transportation','Car':'Transportation','TV':'electronics'}\n",
    "moreCategory\n",
    "#updating category\n",
    "Category.update(moreCategory)"
   ]
  },
  {
   "cell_type": "code",
   "execution_count": 21,
   "metadata": {},
   "outputs": [
    {
     "name": "stdout",
     "output_type": "stream",
     "text": [
      "{'mobile': 'electronics', 'grains': 'FMCG', 'Coke': 'Foods and Drinks', 'eagles': 'Bird', 'Peanut Butter': 'Foods and Drinks', 'Cycle': 'Transportation', 'Car': 'Transportation', 'TV': 'electronics'}\n"
     ]
    }
   ],
   "source": [
    "print(Category)"
   ]
  },
  {
   "cell_type": "code",
   "execution_count": 24,
   "metadata": {},
   "outputs": [
    {
     "data": {
      "text/plain": [
       "dict_keys(['mobile', 'grains', 'Coke', 'eagles', 'Peanut Butter', 'Cycle', 'Car', 'TV'])"
      ]
     },
     "execution_count": 24,
     "metadata": {},
     "output_type": "execute_result"
    }
   ],
   "source": [
    "Category.keys()"
   ]
  },
  {
   "cell_type": "code",
   "execution_count": 25,
   "metadata": {},
   "outputs": [
    {
     "data": {
      "text/plain": [
       "dict_values(['electronics', 'FMCG', 'Foods and Drinks', 'Bird', 'Foods and Drinks', 'Transportation', 'Transportation', 'electronics'])"
      ]
     },
     "execution_count": 25,
     "metadata": {},
     "output_type": "execute_result"
    }
   ],
   "source": [
    "Category.values()"
   ]
  },
  {
   "cell_type": "code",
   "execution_count": 26,
   "metadata": {},
   "outputs": [
    {
     "name": "stdout",
     "output_type": "stream",
     "text": [
      "mobile electronics\n",
      "grains FMCG\n",
      "Coke Foods and Drinks\n",
      "eagles Bird\n",
      "Peanut Butter Foods and Drinks\n",
      "Cycle Transportation\n",
      "Car Transportation\n",
      "TV electronics\n"
     ]
    }
   ],
   "source": [
    "#displaying the dictionary using items\n",
    "for key,value in Category.items():\n",
    "    print(key,value)\n"
   ]
  },
  {
   "cell_type": "code",
   "execution_count": null,
   "metadata": {
    "collapsed": true
   },
   "outputs": [],
   "source": []
  }
 ],
 "metadata": {
  "kernelspec": {
   "display_name": "Python 3",
   "language": "python",
   "name": "python3"
  },
  "language_info": {
   "codemirror_mode": {
    "name": "ipython",
    "version": 3
   },
   "file_extension": ".py",
   "mimetype": "text/x-python",
   "name": "python",
   "nbconvert_exporter": "python",
   "pygments_lexer": "ipython3",
   "version": "3.6.1"
  }
 },
 "nbformat": 4,
 "nbformat_minor": 1
}
